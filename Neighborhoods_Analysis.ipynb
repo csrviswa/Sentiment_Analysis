{
  "nbformat": 4,
  "nbformat_minor": 0,
  "metadata": {
    "colab": {
      "name": "Neighborhoods_Analysis.ipynb",
      "version": "0.3.2",
      "provenance": [],
      "collapsed_sections": [],
      "include_colab_link": true
    },
    "kernelspec": {
      "name": "python3",
      "display_name": "Python 3"
    }
  },
  "cells": [
    {
      "cell_type": "markdown",
      "metadata": {
        "id": "view-in-github",
        "colab_type": "text"
      },
      "source": [
        "<a href=\"https://colab.research.google.com/github/csrviswa/Sentiment_Analysis/blob/master/Neighborhoods_Analysis.ipynb\" target=\"_parent\"><img src=\"https://colab.research.google.com/assets/colab-badge.svg\" alt=\"Open In Colab\"/></a>"
      ]
    },
    {
      "metadata": {
        "id": "wVS42k9cFahq",
        "colab_type": "code",
        "colab": {}
      },
      "cell_type": "code",
      "source": [
        "import pip    \n",
        "from bs4 import BeautifulSoup\n",
        "import requests\n",
        "import csv\n",
        "import pandas as pd"
      ],
      "execution_count": 0,
      "outputs": []
    },
    {
      "metadata": {
        "id": "gmmW0PD2HdPO",
        "colab_type": "code",
        "outputId": "4392e10b-9b70-475a-fd9a-70960eb06161",
        "colab": {
          "base_uri": "https://localhost:8080/",
          "height": 34
        }
      },
      "cell_type": "code",
      "source": [
        "source = requests.get('https://en.wikipedia.org/wiki/List_of_postal_codes_of_Canada:_M').text\n",
        "soup = BeautifulSoup(source, 'lxml')\n",
        "table = soup.find('table', class_='wikitable')\n",
        "csv_file = open('postal_codes_of_Canada.csv', 'w')\n",
        "csv_writer = csv.writer(csv_file)\n",
        "coloumn = []\n",
        "row = [];\n",
        "for th in table.find_all('th'):\n",
        "    coloumn.append(th.text.replace('\\n', ''))\n",
        "csv_writer.writerow(coloumn)\n",
        "for td in table.find_all('td'):\n",
        "    if(td.text.find('\\n') != -1) :\n",
        "       row.append(td.text.replace('\\n', '')) \n",
        "       csv_writer.writerow(row)\n",
        "       row.clear()\n",
        "    else :\n",
        "       row.append(td.text)\n",
        "      \n",
        "csv_file.close()    \n",
        "data = pd.read_csv(\"postal_codes_of_Canada.csv\") \n",
        "data.drop(data[data.Borough == 'Not assigned'].index, inplace=True)\n",
        "data.reset_index(drop=True, inplace=True)\n",
        "data = data.groupby(['Postcode','Borough'], sort=False).Neighbourhood.apply(', '.join).reset_index(name='Neighbourhood')\n",
        "data.loc[data[data.Neighbourhood == 'Not assigned'].index, 'Neighbourhood'] = data.loc[data[data.Neighbourhood == 'Not assigned'].index, 'Borough']\n",
        "data.shape"
      ],
      "execution_count": 13,
      "outputs": [
        {
          "output_type": "execute_result",
          "data": {
            "text/plain": [
              "(103, 3)"
            ]
          },
          "metadata": {
            "tags": []
          },
          "execution_count": 13
        }
      ]
    },
    {
      "metadata": {
        "id": "btH3ASaMVB75",
        "colab_type": "code",
        "colab": {}
      },
      "cell_type": "code",
      "source": [
        "`"
      ],
      "execution_count": 0,
      "outputs": []
    }
  ]
}